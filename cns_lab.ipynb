{
  "nbformat": 4,
  "nbformat_minor": 0,
  "metadata": {
    "colab": {
      "name": "cns lab.ipynb",
      "provenance": [],
      "authorship_tag": "ABX9TyPoWmJCJ49dVPSLaFpbwukl",
      "include_colab_link": true
    },
    "kernelspec": {
      "name": "python3",
      "display_name": "Python 3"
    },
    "language_info": {
      "name": "python"
    }
  },
  "cells": [
    {
      "cell_type": "markdown",
      "metadata": {
        "id": "view-in-github",
        "colab_type": "text"
      },
      "source": [
        "<a href=\"https://colab.research.google.com/github/Sridevi-1/driveready-c/blob/main/cns_lab.ipynb\" target=\"_parent\"><img src=\"https://colab.research.google.com/assets/colab-badge.svg\" alt=\"Open In Colab\"/></a>"
      ]
    },
    {
      "cell_type": "code",
      "metadata": {
        "colab": {
          "base_uri": "https://localhost:8080/"
        },
        "id": "IVhY5yzb7N1K",
        "outputId": "7f82b5c9-1ce9-4a7f-824b-2b6cd0d8f84d"
      },
      "source": [
        "def encrypt(text,s):\n",
        "  result=\"\"\n",
        "  for i in range(len(text)):\n",
        "    char=text[i]\n",
        "  if(char.isupper()):\n",
        "    result+=chr((ord(char)+s-65)%26+65)\n",
        "  else:\n",
        "    result+=chr((ord(char)+s-97)%26+97)\n",
        "  return result\n",
        "text=\"CEASER CIPHER DEMO\"\n",
        "s=4\n",
        "print(\"plain text:\"+text)\n",
        "print(\"shift pattern:\"+str(s))\n",
        "print(\"CEASER:\"+encrypt(text,s))\n"
      ],
      "execution_count": 2,
      "outputs": [
        {
          "output_type": "stream",
          "name": "stdout",
          "text": [
            "plain text:CEASER CIPHER DEMO\n",
            "shift pattern:4\n",
            "CEASER:S\n"
          ]
        }
      ]
    }
  ]
}